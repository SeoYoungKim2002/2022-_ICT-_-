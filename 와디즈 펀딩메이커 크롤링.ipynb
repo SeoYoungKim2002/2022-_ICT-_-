{
 "cells": [
  {
   "cell_type": "code",
   "execution_count": 1,
   "id": "4df6e4d6",
   "metadata": {
    "collapsed": true
   },
   "outputs": [
    {
     "name": "stdout",
     "output_type": "stream",
     "text": [
      "Collecting selenium\n",
      "  Downloading selenium-4.6.0-py3-none-any.whl (5.2 MB)\n",
      "Requirement already satisfied: certifi>=2021.10.8 in c:\\users\\kimsy\\anaconda3\\lib\\site-packages (from selenium) (2021.10.8)\n",
      "Requirement already satisfied: urllib3[socks]~=1.26 in c:\\users\\kimsy\\anaconda3\\lib\\site-packages (from selenium) (1.26.9)\n",
      "Collecting trio-websocket~=0.9\n",
      "  Downloading trio_websocket-0.9.2-py3-none-any.whl (16 kB)\n",
      "Collecting trio~=0.17\n",
      "  Downloading trio-0.22.0-py3-none-any.whl (384 kB)\n",
      "Collecting outcome\n",
      "  Downloading outcome-1.2.0-py2.py3-none-any.whl (9.7 kB)\n",
      "Requirement already satisfied: cffi>=1.14 in c:\\users\\kimsy\\anaconda3\\lib\\site-packages (from trio~=0.17->selenium) (1.15.0)\n",
      "Collecting async-generator>=1.9\n",
      "  Downloading async_generator-1.10-py3-none-any.whl (18 kB)\n",
      "Requirement already satisfied: sniffio in c:\\users\\kimsy\\anaconda3\\lib\\site-packages (from trio~=0.17->selenium) (1.2.0)\n",
      "Requirement already satisfied: attrs>=19.2.0 in c:\\users\\kimsy\\anaconda3\\lib\\site-packages (from trio~=0.17->selenium) (21.4.0)\n",
      "Requirement already satisfied: sortedcontainers in c:\\users\\kimsy\\anaconda3\\lib\\site-packages (from trio~=0.17->selenium) (2.4.0)\n",
      "Collecting exceptiongroup>=1.0.0rc9\n",
      "  Downloading exceptiongroup-1.0.1-py3-none-any.whl (12 kB)\n",
      "Requirement already satisfied: idna in c:\\users\\kimsy\\anaconda3\\lib\\site-packages (from trio~=0.17->selenium) (3.3)Note: you may need to restart the kernel to use updated packages.\n",
      "Requirement already satisfied: pycparser in c:\\users\\kimsy\\anaconda3\\lib\\site-packages (from cffi>=1.14->trio~=0.17->selenium) (2.21)\n",
      "Collecting wsproto>=0.14\n",
      "  Downloading wsproto-1.2.0-py3-none-any.whl (24 kB)\n",
      "Requirement already satisfied: PySocks!=1.5.7,<2.0,>=1.5.6 in c:\\users\\kimsy\\anaconda3\\lib\\site-packages (from urllib3[socks]~=1.26->selenium) (1.7.1)\n",
      "Collecting h11<1,>=0.9.0\n",
      "  Downloading h11-0.14.0-py3-none-any.whl (58 kB)\n",
      "Installing collected packages: outcome, h11, exceptiongroup, async-generator, wsproto, trio, trio-websocket, selenium\n",
      "Successfully installed async-generator-1.10 exceptiongroup-1.0.1 h11-0.14.0 outcome-1.2.0 selenium-4.6.0 trio-0.22.0 trio-websocket-0.9.2 wsproto-1.2.0\n",
      "\n"
     ]
    }
   ],
   "source": [
    "pip install selenium"
   ]
  },
  {
   "cell_type": "code",
   "execution_count": 2,
   "id": "488fc502",
   "metadata": {},
   "outputs": [],
   "source": [
    "import selenium\n",
    "import pandas as pd\n",
    "from bs4 import BeautifulSoup\n",
    "from selenium import webdriver\n",
    "from selenium.webdriver.common.keys import Keys\n",
    "import time\n",
    "from selenium.webdriver.common.by import By\n"
   ]
  },
  {
   "cell_type": "code",
   "execution_count": 7,
   "id": "47464667",
   "metadata": {
    "scrolled": true
   },
   "outputs": [
    {
     "name": "stdout",
     "output_type": "stream",
     "text": [
      "Collecting xgboost\n",
      "  Downloading xgboost-1.7.1-py3-none-win_amd64.whl (89.1 MB)\n",
      "Requirement already satisfied: scipy in c:\\users\\kimsy\\anaconda3\\lib\\site-packages (from xgboost) (1.7.3)\n",
      "Requirement already satisfied: numpy in c:\\users\\kimsy\\anaconda3\\lib\\site-packages (from xgboost) (1.21.5)\n",
      "Installing collected packages: xgboost\n",
      "Successfully installed xgboost-1.7.1\n",
      "Collecting xgboost\n",
      "  Downloading xgboost-1.7.1-py3-none-win_amd64.whl (89.1 MB)\n",
      "Requirement already satisfied: numpy in c:\\users\\kimsy\\anaconda3\\lib\\site-packages (from xgboost) (1.21.5)\n",
      "Requirement already satisfied: scipy in c:\\users\\kimsy\\anaconda3\\lib\\site-packages (from xgboost) (1.7.3)\n",
      "Installing collected packages: xgboost\n",
      "Successfully installed xgboost-1.7.1\n"
     ]
    }
   ],
   "source": [
    "!pip install xgboost"
   ]
  },
  {
   "cell_type": "code",
   "execution_count": 8,
   "id": "fc65ae48",
   "metadata": {},
   "outputs": [],
   "source": [
    "okt_total=pd.read_csv(\"C:/개인자료/2022학술/최종데이터_최종.csv\")"
   ]
  },
  {
   "cell_type": "code",
   "execution_count": 9,
   "id": "32624a07",
   "metadata": {},
   "outputs": [],
   "source": [
    "x_data = okt_total[[ 'covid', 'mini','maxi','medi']]\n",
    "y_data = okt_total['pf']\n",
    "\n",
    "from sklearn.model_selection import train_test_split\n",
    "x_train, x_test, y_train, y_test = train_test_split(x_data , y_data , test_size=0.3,random_state=42)"
   ]
  },
  {
   "cell_type": "code",
   "execution_count": 10,
   "id": "1c666696",
   "metadata": {
    "scrolled": true
   },
   "outputs": [
    {
     "name": "stdout",
     "output_type": "stream",
     "text": [
      "              precision    recall  f1-score   support\n",
      "\n",
      "           0       0.91      0.10      0.18      1248\n",
      "           1       0.84      1.00      0.91      5728\n",
      "\n",
      "    accuracy                           0.84      6976\n",
      "   macro avg       0.87      0.55      0.54      6976\n",
      "weighted avg       0.85      0.84      0.78      6976\n",
      "\n",
      "              precision    recall  f1-score   support\n",
      "\n",
      "           0       0.24      0.02      0.04       511\n",
      "           1       0.83      0.99      0.90      2480\n",
      "\n",
      "    accuracy                           0.82      2991\n",
      "   macro avg       0.54      0.50      0.47      2991\n",
      "weighted avg       0.73      0.82      0.75      2991\n",
      "\n"
     ]
    }
   ],
   "source": [
    "from  xgboost import  XGBClassifier\n",
    "from sklearn.metrics import classification_report\n",
    "\n",
    "xgb = XGBClassifier(random_state=42)\n",
    "xgb.fit(x_train, y_train)\n",
    "y_predict_train = xgb.predict(x_train)\n",
    "y_predict = xgb.predict(x_test)\n",
    "\n",
    "print(classification_report(y_train, y_predict_train))\n",
    "print(classification_report(y_test, y_predict))"
   ]
  },
  {
   "cell_type": "code",
   "execution_count": 13,
   "id": "5ddf7e8a",
   "metadata": {},
   "outputs": [
    {
     "name": "stdout",
     "output_type": "stream",
     "text": [
      "              precision    recall  f1-score   support\n",
      "\n",
      "           0       0.78      0.01      0.01      1248\n",
      "           1       0.82      1.00      0.90      5728\n",
      "\n",
      "    accuracy                           0.82      6976\n",
      "   macro avg       0.80      0.50      0.46      6976\n",
      "weighted avg       0.81      0.82      0.74      6976\n",
      "\n",
      "              precision    recall  f1-score   support\n",
      "\n",
      "           0       0.25      0.00      0.00       511\n",
      "           1       0.83      1.00      0.91      2480\n",
      "\n",
      "    accuracy                           0.83      2991\n",
      "   macro avg       0.54      0.50      0.46      2991\n",
      "weighted avg       0.73      0.83      0.75      2991\n",
      "\n"
     ]
    }
   ],
   "source": [
    "from lightgbm import LGBMClassifier\n",
    "from sklearn.metrics import classification_report\n",
    "\n",
    "lgb = LGBMClassifier(random_state=42)\n",
    "lgb.fit(x_train, y_train)\n",
    "y_predict_train = lgb.predict(x_train)\n",
    "y_predict = lgb.predict(x_test)\n",
    "\n",
    "print(classification_report(y_train, y_predict_train))\n",
    "print(classification_report(y_test, y_predict))"
   ]
  },
  {
   "cell_type": "code",
   "execution_count": 14,
   "id": "2ff51868",
   "metadata": {
    "scrolled": true
   },
   "outputs": [
    {
     "name": "stdout",
     "output_type": "stream",
     "text": [
      "              precision    recall  f1-score   support\n",
      "\n",
      "           0       1.00      0.01      0.02      1248\n",
      "           1       0.82      1.00      0.90      5728\n",
      "\n",
      "    accuracy                           0.82      6976\n",
      "   macro avg       0.91      0.50      0.46      6976\n",
      "weighted avg       0.85      0.82      0.74      6976\n",
      "\n",
      "              precision    recall  f1-score   support\n",
      "\n",
      "           0       0.40      0.00      0.01       511\n",
      "           1       0.83      1.00      0.91      2480\n",
      "\n",
      "    accuracy                           0.83      2991\n",
      "   macro avg       0.61      0.50      0.46      2991\n",
      "weighted avg       0.76      0.83      0.75      2991\n",
      "\n"
     ]
    }
   ],
   "source": [
    "from sklearn.ensemble import GradientBoostingClassifier\n",
    "from sklearn.metrics import classification_report\n",
    "\n",
    "gbt = GradientBoostingClassifier(random_state=42)\n",
    "gbt.fit(x_train, y_train)\n",
    "y_predict_train = gbt.predict(x_train)\n",
    "y_predict = gbt.predict(x_test)\n",
    "\n",
    "print(classification_report(y_train, y_predict_train))\n",
    "print(classification_report(y_test, y_predict))"
   ]
  },
  {
   "cell_type": "markdown",
   "id": "519ce707",
   "metadata": {},
   "source": [
    "# 펀딩요소"
   ]
  },
  {
   "cell_type": "code",
   "execution_count": 9,
   "id": "15e52066",
   "metadata": {},
   "outputs": [],
   "source": [
    "x_data = okt_total[[  \"goal\", 'img', 'length', 'funding_term', 'sucess', 'fail', 'new']]\n",
    "y_data = okt_total['pf']\n",
    "\n",
    "from sklearn.model_selection import train_test_split\n",
    "x_train, x_test, y_train, y_test = train_test_split(x_data , y_data , test_size=0.3,random_state=42)"
   ]
  },
  {
   "cell_type": "code",
   "execution_count": 10,
   "id": "469af7e1",
   "metadata": {
    "scrolled": true
   },
   "outputs": [
    {
     "name": "stdout",
     "output_type": "stream",
     "text": [
      "              precision    recall  f1-score   support\n",
      "\n",
      "           0       0.91      0.10      0.18      1248\n",
      "           1       0.84      1.00      0.91      5728\n",
      "\n",
      "    accuracy                           0.84      6976\n",
      "   macro avg       0.87      0.55      0.54      6976\n",
      "weighted avg       0.85      0.84      0.78      6976\n",
      "\n",
      "              precision    recall  f1-score   support\n",
      "\n",
      "           0       0.24      0.02      0.04       511\n",
      "           1       0.83      0.99      0.90      2480\n",
      "\n",
      "    accuracy                           0.82      2991\n",
      "   macro avg       0.54      0.50      0.47      2991\n",
      "weighted avg       0.73      0.82      0.75      2991\n",
      "\n"
     ]
    }
   ],
   "source": [
    "from  xgboost import  XGBClassifier\n",
    "from sklearn.metrics import classification_report\n",
    "\n",
    "xgb = XGBClassifier(random_state=42)\n",
    "xgb.fit(x_train, y_train)\n",
    "y_predict_train = xgb.predict(x_train)\n",
    "y_predict = xgb.predict(x_test)\n",
    "\n",
    "print(classification_report(y_train, y_predict_train))\n",
    "print(classification_report(y_test, y_predict))"
   ]
  },
  {
   "cell_type": "code",
   "execution_count": 13,
   "id": "b3933734",
   "metadata": {},
   "outputs": [
    {
     "name": "stdout",
     "output_type": "stream",
     "text": [
      "              precision    recall  f1-score   support\n",
      "\n",
      "           0       0.78      0.01      0.01      1248\n",
      "           1       0.82      1.00      0.90      5728\n",
      "\n",
      "    accuracy                           0.82      6976\n",
      "   macro avg       0.80      0.50      0.46      6976\n",
      "weighted avg       0.81      0.82      0.74      6976\n",
      "\n",
      "              precision    recall  f1-score   support\n",
      "\n",
      "           0       0.25      0.00      0.00       511\n",
      "           1       0.83      1.00      0.91      2480\n",
      "\n",
      "    accuracy                           0.83      2991\n",
      "   macro avg       0.54      0.50      0.46      2991\n",
      "weighted avg       0.73      0.83      0.75      2991\n",
      "\n"
     ]
    }
   ],
   "source": [
    "from lightgbm import LGBMClassifier\n",
    "from sklearn.metrics import classification_report\n",
    "\n",
    "lgb = LGBMClassifier(random_state=42)\n",
    "lgb.fit(x_train, y_train)\n",
    "y_predict_train = lgb.predict(x_train)\n",
    "y_predict = lgb.predict(x_test)\n",
    "\n",
    "print(classification_report(y_train, y_predict_train))\n",
    "print(classification_report(y_test, y_predict))"
   ]
  },
  {
   "cell_type": "code",
   "execution_count": 14,
   "id": "bd3ecc95",
   "metadata": {
    "scrolled": true
   },
   "outputs": [
    {
     "name": "stdout",
     "output_type": "stream",
     "text": [
      "              precision    recall  f1-score   support\n",
      "\n",
      "           0       1.00      0.01      0.02      1248\n",
      "           1       0.82      1.00      0.90      5728\n",
      "\n",
      "    accuracy                           0.82      6976\n",
      "   macro avg       0.91      0.50      0.46      6976\n",
      "weighted avg       0.85      0.82      0.74      6976\n",
      "\n",
      "              precision    recall  f1-score   support\n",
      "\n",
      "           0       0.40      0.00      0.01       511\n",
      "           1       0.83      1.00      0.91      2480\n",
      "\n",
      "    accuracy                           0.83      2991\n",
      "   macro avg       0.61      0.50      0.46      2991\n",
      "weighted avg       0.76      0.83      0.75      2991\n",
      "\n"
     ]
    }
   ],
   "source": [
    "from sklearn.ensemble import GradientBoostingClassifier\n",
    "from sklearn.metrics import classification_report\n",
    "\n",
    "gbt = GradientBoostingClassifier(random_state=42)\n",
    "gbt.fit(x_train, y_train)\n",
    "y_predict_train = gbt.predict(x_train)\n",
    "y_predict = gbt.predict(x_test)\n",
    "\n",
    "print(classification_report(y_train, y_predict_train))\n",
    "print(classification_report(y_test, y_predict))"
   ]
  },
  {
   "cell_type": "code",
   "execution_count": null,
   "id": "97d62e82",
   "metadata": {},
   "outputs": [],
   "source": [
    "# 랜덤 포레스트\n",
    "# https://alex-blog.tistory.com/entry/Machine-Learning-Random-Forest-%EB%9E%9C%EB%8D%A4-%ED%8F%AC%EB%A0%88%EC%8A%A4%ED%8A%B8-%EC%98%88%EC%8B%9C-feat-python"
   ]
  },
  {
   "cell_type": "code",
   "execution_count": 29,
   "id": "e105de44",
   "metadata": {},
   "outputs": [
    {
     "name": "stdout",
     "output_type": "stream",
     "text": [
      "0.7673019057171514\n"
     ]
    }
   ],
   "source": [
    "from sklearn.ensemble import RandomForestClassifier\n",
    "#2000개 트리 설정\n",
    "classifier=RandomForestClassifier(n_estimators=2000)\n",
    "classifier.fit(x_train, y_train)\n",
    "y_pred = rfc.predict(x_test)\n",
    "score = classifier.score(x_test, y_test)\n",
    "print(score)"
   ]
  },
  {
   "cell_type": "code",
   "execution_count": 27,
   "id": "b4966770",
   "metadata": {
    "scrolled": true
   },
   "outputs": [
    {
     "data": {
      "text/plain": [
       "array([[1],\n",
       "       [1],\n",
       "       [1],\n",
       "       ...,\n",
       "       [1],\n",
       "       [1],\n",
       "       [1]], dtype=int64)"
      ]
     },
     "execution_count": 27,
     "metadata": {},
     "output_type": "execute_result"
    }
   ],
   "source": [
    "y_pred.reshape(-1,1) #행렬을 1,1로 설정 "
   ]
  },
  {
   "cell_type": "code",
   "execution_count": 20,
   "id": "7437b3b1",
   "metadata": {},
   "outputs": [],
   "source": [
    "# import Random Forest classifier\n",
    "from sklearn.ensemble import RandomForestClassifier\n",
    "# instantiate the classifier \n",
    "rfc = RandomForestClassifier(random_state=0)\n",
    "rfc.fit(x_train, y_train)\n",
    "y_pred = rfc.predict(x_test)"
   ]
  },
  {
   "cell_type": "code",
   "execution_count": 21,
   "id": "3a75d209",
   "metadata": {},
   "outputs": [
    {
     "name": "stdout",
     "output_type": "stream",
     "text": [
      "Model accuracy score with 10 decision-trees : 0.7660\n"
     ]
    }
   ],
   "source": [
    "from sklearn.metrics import accuracy_score\n",
    "print('Model accuracy score with 10 decision-trees : {0:0.4f}'. format(accuracy_score(y_test, y_pred)))"
   ]
  },
  {
   "cell_type": "code",
   "execution_count": null,
   "id": "8dc6c8dd",
   "metadata": {},
   "outputs": [],
   "source": []
  }
 ],
 "metadata": {
  "kernelspec": {
   "display_name": "Python 3 (ipykernel)",
   "language": "python",
   "name": "python3"
  },
  "language_info": {
   "codemirror_mode": {
    "name": "ipython",
    "version": 3
   },
   "file_extension": ".py",
   "mimetype": "text/x-python",
   "name": "python",
   "nbconvert_exporter": "python",
   "pygments_lexer": "ipython3",
   "version": "3.9.12"
  }
 },
 "nbformat": 4,
 "nbformat_minor": 5
}
